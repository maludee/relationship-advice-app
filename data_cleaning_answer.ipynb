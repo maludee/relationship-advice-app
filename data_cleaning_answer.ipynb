{
 "cells": [
  {
   "cell_type": "code",
   "execution_count": 1,
   "metadata": {
    "collapsed": true
   },
   "outputs": [],
   "source": [
    "## NOTES ##\n",
    "# TODO\n",
    "# Get all of the code in one quick function \n"
   ]
  },
  {
   "cell_type": "code",
   "execution_count": 2,
   "metadata": {
    "collapsed": false
   },
   "outputs": [],
   "source": [
    "import itertools\n",
    "import json\n",
    "import pickle\n",
    "from pymongo import MongoClient\n",
    "import seaborn as sns\n",
    "from copy import deepcopy\n",
    "\n",
    "import math\n",
    "from textblob import TextBlob as tb\n",
    "# from __future__ import division, unicode_literals\n",
    "\n",
    "import pandas as pd\n",
    "import matplotlib.pyplot as plt\n",
    "from collections import Counter\n",
    "\n",
    "from textblob import TextBlob\n",
    "\n",
    "import nltk, string\n",
    "from nltk.corpus import stopwords\n",
    "\n",
    "from sklearn.feature_extraction.text import TfidfVectorizer, CountVectorizer\n",
    "from sklearn.decomposition import NMF, LatentDirichletAllocation\n",
    "from sklearn.metrics.pairwise import cosine_similarity\n",
    "\n",
    "from time import time\n",
    "\n",
    "from scipy import sparse\n",
    "\n",
    "import re\n",
    "import random\n",
    "\n",
    "from sumy.parsers.plaintext import PlaintextParser\n",
    "from sumy.nlp.tokenizers import Tokenizer\n",
    "from sumy.summarizers.lsa import LsaSummarizer as Summarizer\n",
    "from sumy.nlp.stemmers import Stemmer\n",
    "from sumy.utils import get_stop_words\n",
    "from sumy.summarizers.lex_rank import LexRankSummarizer #We're choosing Lexrank, other algorithms are also built in\n",
    "\n",
    "# Initial gensim summary\n",
    "from gensim.summarization import summarize\n",
    "\n",
    "pd.options.display.max_rows = 20\n",
    "pd.options.display.max_columns = 20\n",
    "\n",
    "%matplotlib inline"
   ]
  },
  {
   "cell_type": "code",
   "execution_count": 3,
   "metadata": {
    "collapsed": true
   },
   "outputs": [],
   "source": [
    "from __future__ import unicode_literals"
   ]
  },
  {
   "cell_type": "code",
   "execution_count": 4,
   "metadata": {
    "collapsed": true
   },
   "outputs": [],
   "source": [
    "client = MongoClient()\n",
    "# Sets db to the relationships database\n",
    "db = client.relationships\n",
    "# Access the submissions collection in the relationships database\n",
    "submissions = db.relationships\n",
    "# Access the documents in the collection\n",
    "posts = db.submissions"
   ]
  },
  {
   "cell_type": "code",
   "execution_count": 5,
   "metadata": {
    "collapsed": false
   },
   "outputs": [
    {
     "data": {
      "text/plain": [
       "38012"
      ]
     },
     "execution_count": 5,
     "metadata": {},
     "output_type": "execute_result"
    }
   ],
   "source": [
    "# Check how many submissions I have so far - two ways\n",
    "db.submissions.count()\n",
    "posts.count()"
   ]
  },
  {
   "cell_type": "code",
   "execution_count": 6,
   "metadata": {
    "collapsed": false
   },
   "outputs": [
    {
     "name": "stdout",
     "output_type": "stream",
     "text": [
      "title\n",
      "text\n",
      "date\n",
      "score\n",
      "top_comment\n",
      "_id\n",
      "flair\n"
     ]
    }
   ],
   "source": [
    "# A reminder of what keys are available in each document\n",
    "doc = db.submissions.find_one()\n",
    "for key in doc:\n",
    "    print key"
   ]
  },
  {
   "cell_type": "code",
   "execution_count": 7,
   "metadata": {
    "collapsed": false
   },
   "outputs": [],
   "source": [
    "# Put all of the posts/submissions into a list\n",
    "question_list = []\n",
    "for post in posts.find():\n",
    "    question_list.append(post['text'])\n",
    "\n",
    "# Put all of the answers/submissions into a list\n",
    "answer_list = []\n",
    "for post in posts.find():\n",
    "    answer_list.append(post['top_comment'])\n",
    "\n",
    "# List all of the dates\n",
    "date_list = []\n",
    "for post in posts.find():\n",
    "    date_list.append(post['date'].date())\n",
    "\n",
    "\n",
    "# List all of the times\n",
    "time_list = []\n",
    "for post in posts.find():\n",
    "    time_list.append(post['date'].time().hour)\n"
   ]
  },
  {
   "cell_type": "code",
   "execution_count": 8,
   "metadata": {
    "collapsed": false
   },
   "outputs": [
    {
     "name": "stdout",
     "output_type": "stream",
     "text": [
      "[datetime.date(2016, 12, 31), datetime.date(2016, 12, 31)]\n"
     ]
    }
   ],
   "source": [
    "print date_list[:2]"
   ]
  },
  {
   "cell_type": "code",
   "execution_count": 9,
   "metadata": {
    "collapsed": false
   },
   "outputs": [
    {
     "name": "stdout",
     "output_type": "stream",
     "text": [
      "38012\n",
      "38012\n",
      "38012\n",
      "38012\n"
     ]
    }
   ],
   "source": [
    "# Check that all the lengths are the same\n",
    "print len(question_list)\n",
    "print len(answer_list)\n",
    "print len(date_list)\n",
    "print len(time_list)"
   ]
  },
  {
   "cell_type": "code",
   "execution_count": 10,
   "metadata": {
    "collapsed": true
   },
   "outputs": [],
   "source": [
    "# Take away apostrophes\n",
    "for q in question_list:\n",
    "    q = q.replace(\"'\", \"\")\n",
    "\n",
    "# Take away apostrophes and drop Nones from posts that had no answer\n",
    "answer_list = ['None' if a is None else a for a in answer_list]\n",
    "\n",
    "for a in answer_list:\n",
    "    a = a.replace(\"'\", \"\")"
   ]
  },
  {
   "cell_type": "code",
   "execution_count": 11,
   "metadata": {
    "collapsed": false
   },
   "outputs": [
    {
     "data": {
      "image/png": "[encoded data removed]",
      "text/plain": [
       "<matplotlib.figure.Figure at 0x7ffa158f7950>"
      ]
     },
     "metadata": {},
     "output_type": "display_data"
    }
   ],
   "source": [
    "# Put the dates into a dataframe and plot\n",
    "date_count = Counter(date_list)\n",
    "date_count = pd.DataFrame(date_count.items())\n",
    "date_count = date_count.rename(columns={0: 'date', 1: 'submissions'})\n",
    "date_count.sort_values('date', inplace = True)\n",
    "date_count.head()\n",
    "ax = date_count.plot(x='date', y='submissions', rot=45, title = 'Submissions Over Time', )\n"
   ]
  },
  {
   "cell_type": "code",
   "execution_count": 12,
   "metadata": {
    "collapsed": false
   },
   "outputs": [
    {
     "data": {
      "text/plain": [
       "<matplotlib.axes._subplots.AxesSubplot at 0x7ffa0ff3b810>"
      ]
     },
     "execution_count": 12,
     "metadata": {},
     "output_type": "execute_result"
    },
    {
     "data": {
      "image/png": "[encoded data removed]",
      "text/plain": [
       "<matplotlib.figure.Figure at 0x7ffa14140a90>"
      ]
     },
     "metadata": {},
     "output_type": "display_data"
    }
   ],
   "source": [
    "# Put the times into a dataframe and plot\n",
    "time_count = Counter(time_list)\n",
    "time_count = pd.DataFrame(time_count.items())\n",
    "time_count = time_count.rename(columns={0: 'hour', 1: 'submissions'})\n",
    "time_count.sort_values('hour', inplace = True)\n",
    "\n",
    "# This is in UTC...maybe not that helpful \n",
    "time_count.plot(x='hour', y='submissions',  title = 'Submissions by Hour', ylim=(0,4000), xlim=(0,23))"
   ]
  },
  {
   "cell_type": "markdown",
   "metadata": {},
   "source": [
    "# Preliminary Topic Modeling"
   ]
  },
  {
   "cell_type": "code",
   "execution_count": 13,
   "metadata": {
    "collapsed": false
   },
   "outputs": [],
   "source": [
    "stop_words = stopwords.words(\"english\")"
   ]
  },
  {
   "cell_type": "code",
   "execution_count": 14,
   "metadata": {
    "collapsed": false
   },
   "outputs": [
    {
     "name": "stdout",
     "output_type": "stream",
     "text": [
      "Extracting tf-idf features for NMF...\n",
      "done in 16.503s.\n",
      "Fitting the NMF model with tf-idf features, n_samples=5000 and n_features=2000...\n",
      "done in 14.765s.\n",
      "\n",
      "Topics in NMF model:\n",
      "Topic #0:\n",
      "like feel sex really want know things get time think relationship love much even life always people something make way\n",
      "Topic #1:\n",
      "mom dad family parents sister mother brother money father house home husband years school live job kids wife us pay\n",
      "Topic #2:\n",
      "said told asked night day back got time went would work go wanted week text going home phone days next\n",
      "Topic #3:\n",
      "friends friend girl best really guy group school people friendship like close know one hang girls feelings crush met guys\n",
      "Topic #4:\n",
      "relationship ex together broke months love girlfriend still break years back dating year long want move feelings ago distance would\n",
      "()\n"
     ]
    }
   ],
   "source": [
    "n_samples = 5000\n",
    "n_features = 2000\n",
    "n_topics = 5\n",
    "n_top_words = 20\n",
    "\n",
    "\n",
    "def print_top_words(model, feature_names, n_top_words):\n",
    "    for topic_idx, topic in enumerate(model.components_):\n",
    "        print(\"Topic #%d:\" % topic_idx)\n",
    "        print(\" \".join([feature_names[i]\n",
    "                        for i in topic.argsort()[:-n_top_words - 1:-1]]))\n",
    "    print()\n",
    "\n",
    "\n",
    "# Load the 20 newsgroups dataset and vectorize it. We use a few heuristics\n",
    "# to filter out useless terms early on: the posts are stripped of headers,\n",
    "# footers and quoted replies, and common English words, words occurring in\n",
    "# only one document or in at least 95% of the documents are removed.\n",
    "\n",
    "\n",
    "# Use tf-idf features for NMF.\n",
    "print(\"Extracting tf-idf features for NMF...\")\n",
    "tfidf_vectorizer = TfidfVectorizer(max_df=0.95, min_df=2,\n",
    "                                   max_features=n_features,\n",
    "                                   stop_words=stop_words)\n",
    "t0 = time()\n",
    "tfidf = tfidf_vectorizer.fit_transform(question_list)\n",
    "print(\"done in %0.3fs.\" % (time() - t0))\n",
    "\n",
    "\n",
    "# Fit the NMF model\n",
    "print(\"Fitting the NMF model with tf-idf features, \"\n",
    "      \"n_samples=%d and n_features=%d...\"\n",
    "      % (n_samples, n_features))\n",
    "t0 = time()\n",
    "nmf = NMF(n_components=n_topics, random_state=1,\n",
    "          alpha=.1, l1_ratio=.5).fit(tfidf)\n",
    "print(\"done in %0.3fs.\" % (time() - t0))\n",
    "\n",
    "print(\"\\nTopics in NMF model:\")\n",
    "tfidf_feature_names = tfidf_vectorizer.get_feature_names()\n",
    "print_top_words(nmf, tfidf_feature_names, n_top_words)"
   ]
  },
  {
   "cell_type": "markdown",
   "metadata": {},
   "source": [
    "# Distances"
   ]
  },
  {
   "cell_type": "code",
   "execution_count": 15,
   "metadata": {
    "collapsed": true
   },
   "outputs": [],
   "source": [
    "# Put all of the titles into a list\n",
    "title_list = []\n",
    "for post in posts.find():\n",
    "      title_list.append(post['title'])\n",
    "        \n",
    "# Put all of the posts/submissions into a list\n",
    "question_list = []\n",
    "for post in posts.find():\n",
    "      question_list.append(post['text'])\n",
    "\n",
    "# Put all of the answers/submissions into a list\n",
    "answer_list = []\n",
    "for post in posts.find():\n",
    "      answer_list.append(post['top_comment'])\n",
    "\n",
    "# List all of the dates\n",
    "date_list = []\n",
    "for post in posts.find():\n",
    "    date_list.append(post['date'].date())\n",
    "    \n",
    "# Put all of the answers/submissions into a list\n",
    "flair_list = []\n",
    "for post in posts.find():\n",
    "      flair_list.append(post['flair'])\n",
    "\n",
    "# Put all of the answers/submissions into a list\n",
    "score_list = []\n",
    "for post in posts.find():\n",
    "      score_list.append(post['score'])"
   ]
  },
  {
   "cell_type": "code",
   "execution_count": 16,
   "metadata": {
    "collapsed": false
   },
   "outputs": [],
   "source": [
    "# Convert the items to strings\n",
    "title_list = [title.encode('ascii','ignore') for title in title_list]\n",
    "\n",
    "question_list = [question.encode('ascii','ignore') for question in question_list]\n",
    "\n",
    "# Take away apostrophes and drop Nones from posts that had no answer\n",
    "answer_list = ['None' if answer is None else answer for answer in answer_list]\n",
    "answer_list = [answer.encode('ascii','ignore') for answer in answer_list]\n",
    "\n",
    "# Take away apostrophes and drop Nones from posts that had no answer\n",
    "flair_list = ['None' if flair is None else flair for flair in flair_list]\n",
    "flair_list = [flair.encode('ascii','ignore') for flair in flair_list]"
   ]
  },
  {
   "cell_type": "code",
   "execution_count": 72,
   "metadata": {
    "collapsed": false
   },
   "outputs": [],
   "source": [
    "test_case = \"\"\"\n",
    "Hey guys, what's up. So for March break, my GF and I are going to Disneyworld in Florida. Yayy. We haven't booked the hotels yet...should probably get on that. Anyways, my GF's mother wants her to bring along her younger sister because she has never been to Disneyworld (her mum will pay for hotel+flight+other stuff). Her sister also really wants to go. Don't get me wrong, I've met her sister before. She is a nice, sweet, well-behaved little girl.\n",
    "But IDK, I kind of wanted this trip just to be for us. And not to mention the added responsibility of taking care of an 8 year old. My GF, though, thinks its a great idea. I love her sister but I really just want the trip to be a romantic relaxing one. Am I being selfish for wanting this? How can I go about telling her this without sounding like an asshole?\n",
    "TL;DR: GF's younger sister wants to go to Disneyworld with us. I kind of just want the trip to be between my GF and I...\n",
    "\"\"\""
   ]
  },
  {
   "cell_type": "code",
   "execution_count": 73,
   "metadata": {
    "collapsed": false
   },
   "outputs": [],
   "source": [
    "# Make a copy of the question list that includes the test case at the end\n",
    "question_plus_test = deepcopy(question_list)\n",
    "question_plus_test.append(test_case)"
   ]
  },
  {
   "cell_type": "code",
   "execution_count": 74,
   "metadata": {
    "collapsed": false
   },
   "outputs": [],
   "source": [
    "# Transform the questions and test case into TFIDF vectors\n",
    "vectorizer = TfidfVectorizer(stop_words=stop_words)\n",
    "\n",
    "# fit the tfidf on the total corpus\n",
    "tfidf = vectorizer.fit_transform(question_plus_test)"
   ]
  },
  {
   "cell_type": "code",
   "execution_count": 75,
   "metadata": {
    "collapsed": false
   },
   "outputs": [],
   "source": [
    "# Fit the vectorizer on the question_list\n",
    "# question_matrix = vectorizer.fit_transform(question_plus_test)\n"
   ]
  },
  {
   "cell_type": "code",
   "execution_count": 76,
   "metadata": {
    "collapsed": false
   },
   "outputs": [],
   "source": [
    "# question_matrix.shape"
   ]
  },
  {
   "cell_type": "code",
   "execution_count": 77,
   "metadata": {
    "collapsed": false
   },
   "outputs": [],
   "source": [
    "corpus = tfidf[:-1]\n",
    "test_case_vector = tfidf[tfidf.shape[0]-1]\n",
    "distances = pd.DataFrame(cosine_similarity(corpus, test_case_vector))"
   ]
  },
  {
   "cell_type": "code",
   "execution_count": 78,
   "metadata": {
    "collapsed": false
   },
   "outputs": [
    {
     "data": {
      "text/plain": [
       "38012"
      ]
     },
     "execution_count": 78,
     "metadata": {},
     "output_type": "execute_result"
    }
   ],
   "source": [
    "len(distances)"
   ]
  },
  {
   "cell_type": "code",
   "execution_count": 79,
   "metadata": {
    "collapsed": false
   },
   "outputs": [
    {
     "data": {
      "text/plain": [
       "38012"
      ]
     },
     "execution_count": 79,
     "metadata": {},
     "output_type": "execute_result"
    }
   ],
   "source": [
    "len(question_list)"
   ]
  },
  {
   "cell_type": "code",
   "execution_count": 80,
   "metadata": {
    "collapsed": false
   },
   "outputs": [],
   "source": [
    "# Append the real questions, answers, etc to the distances frame\n",
    "distances['title'] = title_list\n",
    "distances['question'] = question_list\n",
    "distances['answer'] = answer_list\n",
    "distances['score'] = score_list\n",
    "distances['flair'] = flair_list"
   ]
  },
  {
   "cell_type": "code",
   "execution_count": 81,
   "metadata": {
    "collapsed": true
   },
   "outputs": [],
   "source": [
    "# Remove deleted answers \n",
    "distances = distances.loc[distances.answer != \"[deleted]\", ]"
   ]
  },
  {
   "cell_type": "code",
   "execution_count": 82,
   "metadata": {
    "collapsed": false
   },
   "outputs": [],
   "source": [
    "# Rename\n",
    "distances = distances.rename(columns = {0:\"similarity\"})"
   ]
  },
  {
   "cell_type": "code",
   "execution_count": 83,
   "metadata": {
    "collapsed": true
   },
   "outputs": [],
   "source": [
    "hundred_largest = distances.nlargest(500, \"similarity\")"
   ]
  },
  {
   "cell_type": "code",
   "execution_count": 84,
   "metadata": {
    "collapsed": false
   },
   "outputs": [
    {
     "data": {
      "text/html": [
       "<div>\n",
       "<table border=\"1\" class=\"dataframe\">\n",
       "  <thead>\n",
       "    <tr style=\"text-align: right;\">\n",
       "      <th></th>\n",
       "      <th>similarity</th>\n",
       "      <th>title</th>\n",
       "      <th>question</th>\n",
       "      <th>answer</th>\n",
       "      <th>score</th>\n",
       "      <th>flair</th>\n",
       "    </tr>\n",
       "  </thead>\n",
       "  <tbody>\n",
       "    <tr>\n",
       "      <th>36202</th>\n",
       "      <td>0.333594</td>\n",
       "      <td>Me [23 M] with my girlfriend's younger sister ...</td>\n",
       "      <td>My girlfriend, GF, is my best friend, and I lo...</td>\n",
       "      <td>Yeah this is going nowhere good OP.\\n\\nLittle ...</td>\n",
       "      <td>1</td>\n",
       "      <td>Non-Romantic</td>\n",
       "    </tr>\n",
       "    <tr>\n",
       "      <th>35975</th>\n",
       "      <td>0.311675</td>\n",
       "      <td>My [31 M] girlfriend's [31 F] sister [29] read...</td>\n",
       "      <td>A couple of weeks ago my girlfriend, her siste...</td>\n",
       "      <td>This is the apology I would send, mostly becau...</td>\n",
       "      <td>2</td>\n",
       "      <td>Relationships</td>\n",
       "    </tr>\n",
       "    <tr>\n",
       "      <th>17093</th>\n",
       "      <td>0.281036</td>\n",
       "      <td>Me [29 M] with my GF [28 M/F] 1.5 years, invit...</td>\n",
       "      <td>My gf and I have been dating for a little over...</td>\n",
       "      <td>I understand where you're coming from. I think...</td>\n",
       "      <td>299</td>\n",
       "      <td>Relationships</td>\n",
       "    </tr>\n",
       "    <tr>\n",
       "      <th>15904</th>\n",
       "      <td>0.276475</td>\n",
       "      <td>Please help me[24M] deal with jealous and inse...</td>\n",
       "      <td>Hi reddit! I just wanted some help to deal wit...</td>\n",
       "      <td>*I admit that some of her actions have crossed...</td>\n",
       "      <td>0</td>\n",
       "      <td>Relationships</td>\n",
       "    </tr>\n",
       "    <tr>\n",
       "      <th>10676</th>\n",
       "      <td>0.266225</td>\n",
       "      <td>My [28 M] girlfriend's [27 F] sister [20 F], i...</td>\n",
       "      <td>I tried to keep this brief, but I couldn't.  Y...</td>\n",
       "      <td>Tell the family to book the lovebirds a hotel ...</td>\n",
       "      <td>368</td>\n",
       "      <td>Non-Romantic</td>\n",
       "    </tr>\n",
       "  </tbody>\n",
       "</table>\n",
       "</div>"
      ],
      "text/plain": [
       "       similarity                                              title  \\\n",
       "36202    0.333594  Me [23 M] with my girlfriend's younger sister ...   \n",
       "35975    0.311675  My [31 M] girlfriend's [31 F] sister [29] read...   \n",
       "17093    0.281036  Me [29 M] with my GF [28 M/F] 1.5 years, invit...   \n",
       "15904    0.276475  Please help me[24M] deal with jealous and inse...   \n",
       "10676    0.266225  My [28 M] girlfriend's [27 F] sister [20 F], i...   \n",
       "\n",
       "                                                question  \\\n",
       "36202  My girlfriend, GF, is my best friend, and I lo...   \n",
       "35975  A couple of weeks ago my girlfriend, her siste...   \n",
       "17093  My gf and I have been dating for a little over...   \n",
       "15904  Hi reddit! I just wanted some help to deal wit...   \n",
       "10676  I tried to keep this brief, but I couldn't.  Y...   \n",
       "\n",
       "                                                  answer  score          flair  \n",
       "36202  Yeah this is going nowhere good OP.\\n\\nLittle ...      1   Non-Romantic  \n",
       "35975  This is the apology I would send, mostly becau...      2  Relationships  \n",
       "17093  I understand where you're coming from. I think...    299  Relationships  \n",
       "15904  *I admit that some of her actions have crossed...      0  Relationships  \n",
       "10676  Tell the family to book the lovebirds a hotel ...    368   Non-Romantic  "
      ]
     },
     "execution_count": 84,
     "metadata": {},
     "output_type": "execute_result"
    }
   ],
   "source": [
    "hundred_largest.head()"
   ]
  },
  {
   "cell_type": "markdown",
   "metadata": {},
   "source": [
    "# Topic Modeling"
   ]
  },
  {
   "cell_type": "code",
   "execution_count": 85,
   "metadata": {
    "collapsed": true
   },
   "outputs": [],
   "source": [
    "def run_topic_model(qlist, test_case, stop_words, n_topics):\n",
    "    \"\"\"Run Topic Model on List of Questions; Apply Model on Test Question\"\"\"\n",
    "    vectorizer = TfidfVectorizer(stop_words = stop_words)\n",
    "    tfidf = vectorizer.fit_transform(qlist)\n",
    "    # Fit the NMF topic modeling on the matrix\n",
    "    topics = NMF(n_components = n_topics, random_state = 1,\n",
    "          alpha = .1, l1_ratio = .5).fit(tfidf)\n",
    "    # Fit the vectorizer on the question_list\n",
    "    qlist_2 = vectorizer.fit_transform(qlist)\n",
    "    qmatrix = topics.transform(qlist_2)\n",
    "    # Fit everything on the test_case question\n",
    "    tlist = []\n",
    "    tlist.append(test_case)\n",
    "    tlist_2 = vectorizer.transform(tlist)\n",
    "    tmatrix = topics.transform(tlist_2)\n",
    "    return qmatrix, tmatrix"
   ]
  },
  {
   "cell_type": "code",
   "execution_count": 86,
   "metadata": {
    "collapsed": false
   },
   "outputs": [
    {
     "name": "stdout",
     "output_type": "stream",
     "text": [
      "(512, 20)\n",
      "(1, 20)\n"
     ]
    }
   ],
   "source": [
    "# Reset index on data frame and run function\n",
    "n_topics = 20\n",
    "hundred_largest = hundred_largest.reset_index()\n",
    "qmatrix, tmatrix = run_topic_model(hundred_largest['question'], test_case, stop_words, n_topics)\n",
    "print(qmatrix.shape)\n",
    "print(tmatrix.shape)"
   ]
  },
  {
   "cell_type": "code",
   "execution_count": 87,
   "metadata": {
    "collapsed": false
   },
   "outputs": [
    {
     "name": "stdout",
     "output_type": "stream",
     "text": [
      "512\n",
      "512\n"
     ]
    }
   ],
   "source": [
    "distances2 = pd.DataFrame(cosine_similarity(qmatrix, tmatrix))\n",
    "print(len(distances2))\n",
    "print(len(hundred_largest['question']))"
   ]
  },
  {
   "cell_type": "code",
   "execution_count": 88,
   "metadata": {
    "collapsed": false
   },
   "outputs": [
    {
     "data": {
      "text/html": [
       "<div>\n",
       "<table border=\"1\" class=\"dataframe\">\n",
       "  <thead>\n",
       "    <tr style=\"text-align: right;\">\n",
       "      <th></th>\n",
       "      <th>index</th>\n",
       "      <th>similarity</th>\n",
       "      <th>title</th>\n",
       "      <th>question</th>\n",
       "      <th>answer</th>\n",
       "      <th>score</th>\n",
       "      <th>flair</th>\n",
       "      <th>topic similarity</th>\n",
       "    </tr>\n",
       "  </thead>\n",
       "  <tbody>\n",
       "    <tr>\n",
       "      <th>309</th>\n",
       "      <td>5245</td>\n",
       "      <td>0.145762</td>\n",
       "      <td>I'm [18m] scared that my gf [18f] is going to ...</td>\n",
       "      <td>So recently my gf got her residency card (this...</td>\n",
       "      <td>Mexico isn't any more dangerous than your coun...</td>\n",
       "      <td>0</td>\n",
       "      <td>[new]</td>\n",
       "      <td>0.925921</td>\n",
       "    </tr>\n",
       "    <tr>\n",
       "      <th>5</th>\n",
       "      <td>17577</td>\n",
       "      <td>0.265864</td>\n",
       "      <td>Me [27 M] with my GF [27 F] six months, going ...</td>\n",
       "      <td>I booked this trip before I met my GF. I'm onl...</td>\n",
       "      <td>Because statistically people do. But you plan ...</td>\n",
       "      <td>9</td>\n",
       "      <td>Relationships</td>\n",
       "      <td>0.888079</td>\n",
       "    </tr>\n",
       "    <tr>\n",
       "      <th>20</th>\n",
       "      <td>7039</td>\n",
       "      <td>0.228030</td>\n",
       "      <td>My girlfriend [21f] is spending Christmas on a...</td>\n",
       "      <td>Hey guys.\\n\\nSorry for the title. I meant 21m....</td>\n",
       "      <td>What is the trip, how long is it and what are ...</td>\n",
       "      <td>126</td>\n",
       "      <td>Relationships</td>\n",
       "      <td>0.882912</td>\n",
       "    </tr>\n",
       "    <tr>\n",
       "      <th>190</th>\n",
       "      <td>33034</td>\n",
       "      <td>0.161193</td>\n",
       "      <td>My [16F] Girlfriend wants to pretend to break ...</td>\n",
       "      <td>So she and I have known each other for years a...</td>\n",
       "      <td>I've been the GF in this situation. I'm incred...</td>\n",
       "      <td>3</td>\n",
       "      <td>Relationships</td>\n",
       "      <td>0.867824</td>\n",
       "    </tr>\n",
       "    <tr>\n",
       "      <th>216</th>\n",
       "      <td>7595</td>\n",
       "      <td>0.156679</td>\n",
       "      <td>Me [24 M] with my GF [23] of three months.</td>\n",
       "      <td>Be sure to explain in detail with line breaks....</td>\n",
       "      <td>You explain that the trip is already planned a...</td>\n",
       "      <td>2</td>\n",
       "      <td>Relationships</td>\n",
       "      <td>0.829729</td>\n",
       "    </tr>\n",
       "  </tbody>\n",
       "</table>\n",
       "</div>"
      ],
      "text/plain": [
       "     index  similarity                                              title  \\\n",
       "309   5245    0.145762  I'm [18m] scared that my gf [18f] is going to ...   \n",
       "5    17577    0.265864  Me [27 M] with my GF [27 F] six months, going ...   \n",
       "20    7039    0.228030  My girlfriend [21f] is spending Christmas on a...   \n",
       "190  33034    0.161193  My [16F] Girlfriend wants to pretend to break ...   \n",
       "216   7595    0.156679         Me [24 M] with my GF [23] of three months.   \n",
       "\n",
       "                                              question  \\\n",
       "309  So recently my gf got her residency card (this...   \n",
       "5    I booked this trip before I met my GF. I'm onl...   \n",
       "20   Hey guys.\\n\\nSorry for the title. I meant 21m....   \n",
       "190  So she and I have known each other for years a...   \n",
       "216  Be sure to explain in detail with line breaks....   \n",
       "\n",
       "                                                answer  score          flair  \\\n",
       "309  Mexico isn't any more dangerous than your coun...      0          [new]   \n",
       "5    Because statistically people do. But you plan ...      9  Relationships   \n",
       "20   What is the trip, how long is it and what are ...    126  Relationships   \n",
       "190  I've been the GF in this situation. I'm incred...      3  Relationships   \n",
       "216  You explain that the trip is already planned a...      2  Relationships   \n",
       "\n",
       "     topic similarity  \n",
       "309          0.925921  \n",
       "5            0.888079  \n",
       "20           0.882912  \n",
       "190          0.867824  \n",
       "216          0.829729  "
      ]
     },
     "execution_count": 88,
     "metadata": {},
     "output_type": "execute_result"
    }
   ],
   "source": [
    "# Append the real questions, answers, etc to the distances frame\n",
    "### MAKE SURE THIS JOIN IS WORKING CORRECTLY\n",
    "distances3 = pd.concat([hundred_largest, distances2], axis = 1)\n",
    "\n",
    "# Stick with \"Relationships\" flair\n",
    "# if len(distances3.loc[(distances3.flair == 'Relationships') \n",
    "#                             & (distances3.score >= 2) & (distances3.similarity > .2),]) > 1:\n",
    "#     distances3 = distances3.loc[(distances3.flair == 'Relationships') \n",
    "#                             & (distances3.score >= 2) & (distances3.similarity > .2),]\n",
    "       \n",
    "# else:\n",
    "#     distances3 = distances3.loc[(distances3.flair == 'Relationships') \n",
    "#                             & (distances3.score >= 2) & (distances3.similarity > .15),]\n",
    "distances3 = distances3.sort_values(0, ascending = False).head(10)\n",
    "\n",
    "# Rename topic similarity\n",
    "distances3 = distances3.rename(columns = {0:\"topic similarity\"})\n",
    "\n",
    "# Sort by similarity\n",
    "distances3.sort_values(['topic similarity'], inplace=True, ascending=False)\n",
    "distances3 = distances3.head()\n",
    "distances3"
   ]
  },
  {
   "cell_type": "markdown",
   "metadata": {},
   "source": [
    "# Summarize answer"
   ]
  },
  {
   "cell_type": "code",
   "execution_count": 89,
   "metadata": {
    "collapsed": false
   },
   "outputs": [],
   "source": [
    "from sumy.summarizers.lsa import LsaSummarizer\n",
    "from sumy.summarizers.luhn import LuhnSummarizer\n",
    "from sumy.summarizers.kl import KLSummarizer\n",
    "from sumy.summarizers.sum_basic import SumBasicSummarizer\n",
    "from sumy.summarizers.text_rank import TextRankSummarizer\n",
    "\n",
    "def summarize_it(answer, n_sentences):\n",
    "    \"\"\"Summarize answer or string of answers in desired number of sentences\"\"\"\n",
    "    parser = PlaintextParser.from_string(answer, Tokenizer(\"english\"))\n",
    "#     summarizer = TextRankSummarizer()\n",
    "#     summarizer = LsaSummarizer()\n",
    "    summarizer = LexRankSummarizer()\n",
    "    summary = summarizer(parser.document, n_sentences)\n",
    "    return summary"
   ]
  },
  {
   "cell_type": "code",
   "execution_count": 90,
   "metadata": {
    "collapsed": false
   },
   "outputs": [],
   "source": [
    "def extract_q_a(df, val):\n",
    "    \"\"\"Get question and answer for desired index value\"\"\"\n",
    "    q = str(df.get_value(val, 'question', takeable = False))\n",
    "    a = str(df.get_value(val, 'answer', takeable = False))\n",
    "    print q\n",
    "    print \"----------\"\n",
    "    print a"
   ]
  },
  {
   "cell_type": "code",
   "execution_count": 91,
   "metadata": {
    "collapsed": false
   },
   "outputs": [
    {
     "name": "stdout",
     "output_type": "stream",
     "text": [
      "Mexico isn't any more dangerous than your country as long as she doesn't go to the bad areas.\n",
      "But you plan to be the exception.\n",
      "They're not going to magically change their minds and accept you.\n"
     ]
    }
   ],
   "source": [
    "# Answer based on top relationships answers\n",
    "a = ' '.join(distances3['answer'])\n",
    "summary = summarize_it(a, 3)\n",
    "for s in summary:\n",
    "    print(s)"
   ]
  },
  {
   "cell_type": "code",
   "execution_count": 92,
   "metadata": {
    "collapsed": false
   },
   "outputs": [
    {
     "name": "stdout",
     "output_type": "stream",
     "text": [
      "I guess, most people who set off on such adventures do so as an impetus to thoroughly change their lives.\n"
     ]
    }
   ],
   "source": [
    "## GENSIM Summarizer\n",
    "the_answer = summarize(a, split = True)[0]\n",
    "print(the_answer)"
   ]
  },
  {
   "cell_type": "code",
   "execution_count": 95,
   "metadata": {
    "collapsed": false
   },
   "outputs": [
    {
     "name": "stdout",
     "output_type": "stream",
     "text": [
      "0.75\n",
      "0.685714285714\n",
      "0.593333333333\n",
      "0.5125\n",
      "0.430833333333\n"
     ]
    }
   ],
   "source": [
    "## Subjectivity\n",
    "list_of_sent = list(distances3['answer'])\n",
    "sentiment_list = []\n",
    "for x in list_of_sent:\n",
    "    blob = TextBlob(x)\n",
    "    sentiment_list.append(blob.sentiment.subjectivity)\n",
    "top_answers = []\n",
    "for c in sorted(sentiment_list, reverse = True)[:5]:\n",
    "    print(c)\n",
    "    top_answers.append(list_of_sent[sentiment_list.index(c)])\n",
    "the_result = ' '.join(top_answers)"
   ]
  },
  {
   "cell_type": "code",
   "execution_count": 96,
   "metadata": {
    "collapsed": false
   },
   "outputs": [
    {
     "name": "stdout",
     "output_type": "stream",
     "text": [
      "Tell her you'd LOVE to plan a weekend trip with just her somewhere.\n"
     ]
    }
   ],
   "source": [
    "the_result2 = summarize(the_result, split = True)[0]\n",
    "print(the_result2)"
   ]
  },
  {
   "cell_type": "markdown",
   "metadata": {},
   "source": [
    "## Old"
   ]
  },
  {
   "cell_type": "code",
   "execution_count": null,
   "metadata": {
    "collapsed": true
   },
   "outputs": [],
   "source": []
  },
  {
   "cell_type": "code",
   "execution_count": null,
   "metadata": {
    "collapsed": true
   },
   "outputs": [],
   "source": []
  },
  {
   "cell_type": "code",
   "execution_count": null,
   "metadata": {
    "collapsed": true
   },
   "outputs": [],
   "source": []
  },
  {
   "cell_type": "code",
   "execution_count": null,
   "metadata": {
    "collapsed": true
   },
   "outputs": [],
   "source": []
  }
 ],
 "metadata": {
  "kernelspec": {
   "display_name": "Python 2",
   "language": "python",
   "name": "python2"
  },
  "language_info": {
   "codemirror_mode": {
    "name": "ipython",
    "version": 2
   },
   "file_extension": ".py",
   "mimetype": "text/x-python",
   "name": "python",
   "nbconvert_exporter": "python",
   "pygments_lexer": "ipython2",
   "version": "2.7.13"
  }
 },
 "nbformat": 4,
 "nbformat_minor": 2
}
