{
 "cells": [
  {
   "cell_type": "code",
   "execution_count": 1,
   "metadata": {
    "collapsed": true
   },
   "outputs": [],
   "source": [
    "# Purpose\n",
    "# Gather data from the reddit API\n",
    "# Get the submissions from r/relationships between a time frame and top posts and other important stuff\n",
    "# Insert the data into a mongo db"
   ]
  },
  {
   "cell_type": "code",
   "execution_count": 1,
   "metadata": {
    "collapsed": false
   },
   "outputs": [],
   "source": [
    "# Import and options\n",
    "import praw\n",
    "import pandas as pd\n",
    "import datetime\n",
    "import pprint"
   ]
  },
  {
   "cell_type": "code",
   "execution_count": 2,
   "metadata": {
    "collapsed": true
   },
   "outputs": [],
   "source": [
    "# Authentication\n",
    "r = praw.Reddit(client_id='Ph0uQKkdUfbK4A',\n",
    "                     client_secret='zjMGwiUhQkXCc4o9jXjR9ZIAQLc', password='geddippa',\n",
    "                     user_agent='Relationships Bot 0.1', username='ooohandahh')"
   ]
  },
  {
   "cell_type": "code",
   "execution_count": 3,
   "metadata": {
    "collapsed": true
   },
   "outputs": [],
   "source": [
    "# Set the subreddit I'll be looking at\n",
    "relationships = r.subreddit('relationships')"
   ]
  },
  {
   "cell_type": "code",
   "execution_count": 4,
   "metadata": {
    "collapsed": true
   },
   "outputs": [],
   "source": [
    "# Function to convert date to readable format\n",
    "def get_date(submission):\n",
    "    time = submission.created\n",
    "    return datetime.datetime.fromtimestamp(time)\n",
    "\n",
    "# Function to print the top level comment\n",
    "def get_top_comment(submission):\n",
    "    for top_level_comment in submission.comments:\n",
    "        return(top_level_comment.body)"
   ]
  },
  {
   "cell_type": "code",
   "execution_count": 5,
   "metadata": {
    "collapsed": false
   },
   "outputs": [
    {
     "name": "stdout",
     "output_type": "stream",
     "text": [
      "('Title: ', u'[UPDATE]My [26 F] with my husband [29 M] 1 year, he has been diagnosed with terminal cancer, how to make it count?')\n",
      "('Flair:', u'Updates')\n",
      "('Text: ', u'[Original Post](https://www.reddit.com/r/relationships/comments/3dheie/my_26_f_with_my_husband_29_m_1_year_he_has_been/)\\n\\nSummary of Original Post- My husband was diagnosed with terminal cancer. After failure of chemo and other treatments, he was told he has about a month to live. I asked for advice on how to make this time count and all of you wonderful people gave some very good advice.\\n\\n\\nLet me begin by saying that as much as I was day dreaming that I\\'ll get to update everyone of a miraculous recovery my brave darling made, I had to wake up to the bitter reality. My husband passed away a few days ago. And just as a lot of you had warned me, with all the preparation in the world and a warning that not many are fortunate to receive, absolutely nothing about when it actually happened felt like I was at all ready. It may as easily have been sudden. He fought bravely to the end and I\\'m proud of his attitude. I\\'m happy he doesn\\'t have to suffer and put on a brave face for me anymore.\\n\\nI\\'m here to thank all of you. Despite what I said above about not feeling prepared, I do feel blessed for having got that time. We may not have completely finished \"the list\" but we sure got to do some of the things that the busy preoccupations of life in all its cruelty snatches from a lot of people. We may not be completely without regrets but we managed to make our list of \\'I wish I had\\'s a lot shorter than it would have been before the warning. So here I am to thank everyone who commented/replied/PMed on that post. It meant a lot to both of us. A sincere thanks to all of you.\\n\\nA special shout to a few people:\\nu/mistyranch for courage and sharing \\nu/mcdie88 for making me feel like a 100 years old (covered that milestone too as he insisted I will live his share too!)\\nu/tacofugitive for looking out for me\\nu/aaoun responsible for some high quality home made porn\\nu/dahlialia who irritated the hell out of my husband as I wanted answers to ALL the questions\\nu/emalen thanks to whom I thought about this part, the coping\\nu/whatsleftisrigh for instilling some pragmatism in me\\nu/ianoftawa thanks to whom unfinished business won\\'t be an issue\\nu/brandyelf who made X\\'mas come early this year\\nu/tenebrous1 who inspired a letter that I haven\\'t been able to read past two lines of\\nu/emlgsh whose words rung in my ears to keep me stronger on the bad days\\nu/throwyourtoothbrush without whose advice I would have tried to do it all on my own and made a mess for sure\\nu/tomyownrhythm who sure knows how to turn a good spin on the dark moments\\nu/daivyjones for the immense support\\nu/WeltallPrime for inspiring my very first novel\\nand so many others for all the wonderful advice, support and most importantly for sharing your stories, I can\\'t thank you enough. I\\'m sorry I can\\'t mention all of you here. Please know how much every word meant to me.\\n\\nHere\\'s an update of all the things we did end up doing (and I hope this will help someone else like us out there):\\n1. As suggested by a lot of you, pictures and videos. I have loads of data of him doing his daily chores to just snoring away next to me. And I still don\\'t think it\\'s enough. Do this, you may not have a warning, you may regret it if you don\\'t. A little background of me here, I\\'ve always been anti pictures, I would proudly say make memories not photo albums and that if something is important enough, you\\'ll remember it. While I still stand by that to a certain extent, I do condone finding that balance. I would charge my tab, turn on the camera and put it in our room. So I could enjoy him and then re enjoy our moments later. And we made the heavily suggested naughty videos as well. Fair warning, getting closure is important so don\\'t get drowned in these memories either. It\\'s too soon for me but I do understand the risks and will look out for myself.\\n2. Which brings me to my next point. Discussing the future. As much as one would want to avoid thinking about a life beyond the one they love the most, not thinking of it will make it that much harder when it inevitably comes. Here\\'s where all the advice on being practical was executed. Practicality on financial and emotional fronts; financial being having ALL the financial information including account numbers, passwords, life insurance policy details, wills and any debts and the latter being arranging for a therapist and talking about expectations from a partner after one is gone and discussing the kids futures, if any. He documented all the financial information and verified it twice, taught me how to access his bank\\'s site and wrote down a step by step guide on how to get the insurance money once he was gone. He wrote a letter addressed to my \"next spouse\" with all the not so easy to discover things about me that were wonderful and necessary, in his words. \\n3. I wrote a book about him. I\\'m an aspiring author and I\\'m proud to say that the love of my life is the sole reader of my only book.\\n4. Scrapbook. This was so fun! I collected screenshots of the best and meanest things we\\'ve ever said to each other, printed those, interspersed those with our pictures over the years in chronological order (starting with the cliched obligatory baby pictures), threw in a few lists I wrote out of top 9 dates, top 9 best sex, top 9 reasons I love him (both our birthdays fall on 9th) etc., mixed in a crossword puzzle he had to solve and our scrapbook was ready!\\n5. I named a star after him. I know this is slightly silly but now I can look at him whenever I want.\\n6. Needless to say, indefinite time off work, spent every waking moment in his arms and sleeping moment in his tightly wrapped arms. Yes, lots of cuddling and just being together.\\n7. Balcony picnic. This was an excellent idea. Stars, candlelight, good food and some good old fashioned open air sex\\n8. Speaking of which, lots of sex. \\n9. We discussed with his doctors and freezing his sperm was not a possibility at this stage so that couldn\\'t pan out. \\n10. The last life party. I wanted to call it The party that never ends but he played the cancer card so I was shot down. All his friends and family came over, everyone said a few things about and to him, nobody was allowed to cry, I told them I was spending a lot on the funeral and he was stealing my thunder by being a tear hogger. It was actually pretty nice with gag jokes from his goofy friends, something like a Halloween with a ghost attending but he\\'s friendly like Casper rather than being creepy/scary\\n11. Told him I loved him, constantly. And anything else that came to my mind that I wanted him to know! He was quite a sport about it and returned the favor.\\n12. We played cards together, watched football matches and his favorite shows together. Things he loves. Casually holding each other.\\n13. Festival week- a day designated to all the festivals. Milestone birthdays- video recording for each with a message \\n14. Cooked his favorite meals for him. He was my happy helper. He\\'d wash the tomatoes and I\\'d make the lasagna. He called me the food conjurer.\\n15. Made him wear his favorite shirts for several days so now they\\'ll smell like him for some time.\\n16. Knit him a sweater, made a portrait of his\\n17. Things very specific to him that he wanted to do- a small bucket list that I won\\'t bore you with\\n   \\nI feel like I\\'ve lived a lifetime in the last month. The quote about living each day like your last got realized. I made a lot of memories I\\'ll never forget. \\n\\nI want to say one more thing before I sign off. All those who have been patient enough to make it to this part of the post or impatient enough to skip to this part, thanks for reading. I have read a lot of things on this sub and unfortunately a majority of the things I read are escapist, overcautious and pessimistic. While I encourage the right of one to protect themselves from potential hurt, I do find the world hiding behind that right shying away from happiness and condemning others at the drop of a hat. Not meaning to sound preachy or claiming to know anyone\\'s personal situation, I do wish to say this..believe in people, believe in goodness, believe in second chances. My husband and I didn\\'t have it perfect, we had our rough patches and forgave each other for mistakes if the other truly showed repentance for them. I could have left him long back and I would have been in the same scenario I am today, leading a life without him. The difference is I would have chosen that in the former scenario whereas now I have to accept the situation. And being here I know I would give anything in the world for that choice right now, I\\'m so glad I was wise enough to look past his tiny flaws and  fill my life with moments of the absolutely wonderful loving man he is (was). Be vulnerable, take risks, get hurt, it\\'s part of being a human and it\\'s ok. As long as you\\'re not being downright stupid, harming yourself or those around you irreparably and not being codependent enabling someone\\'s flaws rather than accepting them, it\\'s ok to make mistakes, that\\'s how we learn and grow. And on the chance that it\\'s not a mistake, the potential upside is limitless.\\n\\nIn the comments of my original post, a lot of you wrote that you cried and told your SO you loved them or gave them a random hug much to their surprise. I\\'ll admit that those comments made me happier than anything else. That our story could inspire some bond somewhere to get stronger was the greatest compliment. So I request anyone reading this to do this today. Give your SO that surprise hug, tell them you love them. I wouldn\\'t wish what we went through on my worst enemy and I\\'m still glad I got that time. But most of you won\\'t. THIS time is that time for you. I\\'m sorry that for most of you, it will be sudden/painful and prolonged. Living your life like each day is your last is impractical. But living your relationship like each day is your last is the easiest and most comforting thing in the world. Hug them, hold them, tell them you love them... Cheers to all the love in the world.\\n\\nThank you all once again. \\n\\n**tl;dr**: My husband passed away, this update is to thank all of you for your wonderful advice and support\\n\\nEdit 1 : Thank you once again Reddit, for all the overwhelming response. Thanks for all the tears, all the hugs and all the support. Thanks for the PMs offering more support. And above all, thanks for our story helped make a difference in your life. I\\'m so grateful to each of you who\\'s vowed to work on their relationships and love their partners more. I\\'m trying to reply to each one of you kindhearted folks, apologies if I have missed out on anyone. Thank you for being with me in this time. Your thoughts, prayers and support means a lot to me.\\n\\nEdit 2 : For those requesting for a [picture](http://imgur.com/gallery/UrGLxAB/new)')\n",
      "('Score: ', 11007)\n",
      "('Date:', datetime.datetime(2015, 8, 22, 4, 7, 2))\n",
      "('Top_Comment:', u'Please never delete this post. I want to save it and re-read it again when bad times strike')\n",
      "---------------------------------\n",
      "\n"
     ]
    }
   ],
   "source": [
    "# Example of what I'll be pulling\n",
    "for submission in relationships.top(limit=1):\n",
    "    print(\"Title: \", submission.title)\n",
    "    print(\"Flair:\", submission.link_flair_text)\n",
    "    print(\"Text: \", submission.selftext)\n",
    "    print(\"Score: \", submission.score)\n",
    "    print(\"Date:\",get_date(submission))\n",
    "    print(\"Top_Comment:\", get_top_comment(submission))\n",
    "    print(\"---------------------------------\\n\")"
   ]
  },
  {
   "cell_type": "code",
   "execution_count": 6,
   "metadata": {
    "collapsed": true
   },
   "outputs": [],
   "source": [
    "import json\n",
    "from pymongo import MongoClient\n",
    "\n",
    "client = MongoClient()\n",
    "db = client.relationships\n",
    "posts = db.submissions"
   ]
  },
  {
   "cell_type": "code",
   "execution_count": 10,
   "metadata": {
    "collapsed": false
   },
   "outputs": [
    {
     "data": {
      "text/plain": [
       "35922"
      ]
     },
     "execution_count": 10,
     "metadata": {},
     "output_type": "execute_result"
    }
   ],
   "source": [
    "db.collection_names()\n",
    "posts.count()\n"
   ]
  },
  {
   "cell_type": "code",
   "execution_count": 13,
   "metadata": {
    "collapsed": false
   },
   "outputs": [
    {
     "name": "stdout",
     "output_type": "stream",
     "text": [
      "datetime.datetime(2016, 7, 5, 16, 3, 44)\n"
     ]
    }
   ],
   "source": [
    "# Check if the whole month was inserted\n",
    "for post in posts.find()[posts.count()-1:posts.count()]:\n",
    "      pprint.pprint(post['date'])"
   ]
  },
  {
   "cell_type": "code",
   "execution_count": 12,
   "metadata": {
    "collapsed": false
   },
   "outputs": [
    {
     "ename": "KeyboardInterrupt",
     "evalue": "",
     "output_type": "error",
     "traceback": [
      "\u001b[0;31m---------------------------------------------------------------------------\u001b[0m",
      "\u001b[0;31mKeyboardInterrupt\u001b[0m                         Traceback (most recent call last)",
      "\u001b[0;32m<ipython-input-12-50e39626d50f>\u001b[0m in \u001b[0;36m<module>\u001b[0;34m()\u001b[0m\n\u001b[1;32m      8\u001b[0m     \u001b[0mdata\u001b[0m\u001b[0;34m[\u001b[0m\u001b[0;34m'score'\u001b[0m\u001b[0;34m]\u001b[0m \u001b[0;34m=\u001b[0m \u001b[0msubmission\u001b[0m\u001b[0;34m.\u001b[0m\u001b[0mscore\u001b[0m\u001b[0;34m\u001b[0m\u001b[0m\n\u001b[1;32m      9\u001b[0m     \u001b[0mdata\u001b[0m\u001b[0;34m[\u001b[0m\u001b[0;34m'date'\u001b[0m\u001b[0;34m]\u001b[0m \u001b[0;34m=\u001b[0m \u001b[0mget_date\u001b[0m\u001b[0;34m(\u001b[0m\u001b[0msubmission\u001b[0m\u001b[0;34m)\u001b[0m\u001b[0;34m\u001b[0m\u001b[0m\n\u001b[0;32m---> 10\u001b[0;31m     \u001b[0mdata\u001b[0m\u001b[0;34m[\u001b[0m\u001b[0;34m'top_comment'\u001b[0m\u001b[0;34m]\u001b[0m \u001b[0;34m=\u001b[0m \u001b[0mget_top_comment\u001b[0m\u001b[0;34m(\u001b[0m\u001b[0msubmission\u001b[0m\u001b[0;34m)\u001b[0m\u001b[0;34m\u001b[0m\u001b[0m\n\u001b[0m\u001b[1;32m     11\u001b[0m     \u001b[0mposts\u001b[0m\u001b[0;34m.\u001b[0m\u001b[0mreplace_one\u001b[0m\u001b[0;34m(\u001b[0m\u001b[0mdata\u001b[0m\u001b[0;34m,\u001b[0m \u001b[0mdata\u001b[0m\u001b[0;34m,\u001b[0m \u001b[0mupsert\u001b[0m \u001b[0;34m=\u001b[0m \u001b[0mTrue\u001b[0m\u001b[0;34m)\u001b[0m\u001b[0;34m\u001b[0m\u001b[0m\n\u001b[1;32m     12\u001b[0m \u001b[0;34m\u001b[0m\u001b[0m\n",
      "\u001b[0;32m<ipython-input-4-f9216ce51fbc>\u001b[0m in \u001b[0;36mget_top_comment\u001b[0;34m(submission)\u001b[0m\n\u001b[1;32m      6\u001b[0m \u001b[0;31m# Function to print the top level comment\u001b[0m\u001b[0;34m\u001b[0m\u001b[0;34m\u001b[0m\u001b[0m\n\u001b[1;32m      7\u001b[0m \u001b[0;32mdef\u001b[0m \u001b[0mget_top_comment\u001b[0m\u001b[0;34m(\u001b[0m\u001b[0msubmission\u001b[0m\u001b[0;34m)\u001b[0m\u001b[0;34m:\u001b[0m\u001b[0;34m\u001b[0m\u001b[0m\n\u001b[0;32m----> 8\u001b[0;31m     \u001b[0;32mfor\u001b[0m \u001b[0mtop_level_comment\u001b[0m \u001b[0;32min\u001b[0m \u001b[0msubmission\u001b[0m\u001b[0;34m.\u001b[0m\u001b[0mcomments\u001b[0m\u001b[0;34m:\u001b[0m\u001b[0;34m\u001b[0m\u001b[0m\n\u001b[0m\u001b[1;32m      9\u001b[0m         \u001b[0;32mreturn\u001b[0m\u001b[0;34m(\u001b[0m\u001b[0mtop_level_comment\u001b[0m\u001b[0;34m.\u001b[0m\u001b[0mbody\u001b[0m\u001b[0;34m)\u001b[0m\u001b[0;34m\u001b[0m\u001b[0m\n",
      "\u001b[0;32m/home/maludee/anaconda2/lib/python2.7/site-packages/praw/models/reddit/base.pyc\u001b[0m in \u001b[0;36m__getattr__\u001b[0;34m(self, attribute)\u001b[0m\n\u001b[1;32m     29\u001b[0m         \u001b[0;34m\"\"\"Return the value of `attrribute`.\"\"\"\u001b[0m\u001b[0;34m\u001b[0m\u001b[0m\n\u001b[1;32m     30\u001b[0m         \u001b[0;32mif\u001b[0m \u001b[0;32mnot\u001b[0m \u001b[0mattribute\u001b[0m\u001b[0;34m.\u001b[0m\u001b[0mstartswith\u001b[0m\u001b[0;34m(\u001b[0m\u001b[0;34m'_'\u001b[0m\u001b[0;34m)\u001b[0m \u001b[0;32mand\u001b[0m \u001b[0;32mnot\u001b[0m \u001b[0mself\u001b[0m\u001b[0;34m.\u001b[0m\u001b[0m_fetched\u001b[0m\u001b[0;34m:\u001b[0m\u001b[0;34m\u001b[0m\u001b[0m\n\u001b[0;32m---> 31\u001b[0;31m             \u001b[0mself\u001b[0m\u001b[0;34m.\u001b[0m\u001b[0m_fetch\u001b[0m\u001b[0;34m(\u001b[0m\u001b[0;34m)\u001b[0m\u001b[0;34m\u001b[0m\u001b[0m\n\u001b[0m\u001b[1;32m     32\u001b[0m             \u001b[0;32mreturn\u001b[0m \u001b[0mgetattr\u001b[0m\u001b[0;34m(\u001b[0m\u001b[0mself\u001b[0m\u001b[0;34m,\u001b[0m \u001b[0mattribute\u001b[0m\u001b[0;34m)\u001b[0m\u001b[0;34m\u001b[0m\u001b[0m\n\u001b[1;32m     33\u001b[0m         raise AttributeError('{!r} object has no attribute {!r}'\n",
      "\u001b[0;32m/home/maludee/anaconda2/lib/python2.7/site-packages/praw/models/reddit/submission.pyc\u001b[0m in \u001b[0;36m_fetch\u001b[0;34m(self)\u001b[0m\n\u001b[1;32m    131\u001b[0m         other, comments = self._reddit.get(self._info_path(),\n\u001b[1;32m    132\u001b[0m                                            params={'limit': self.comment_limit,\n\u001b[0;32m--> 133\u001b[0;31m                                                    'sort': self.comment_sort})\n\u001b[0m\u001b[1;32m    134\u001b[0m         \u001b[0mother\u001b[0m \u001b[0;34m=\u001b[0m \u001b[0mother\u001b[0m\u001b[0;34m.\u001b[0m\u001b[0mchildren\u001b[0m\u001b[0;34m[\u001b[0m\u001b[0;36m0\u001b[0m\u001b[0;34m]\u001b[0m\u001b[0;34m\u001b[0m\u001b[0m\n\u001b[1;32m    135\u001b[0m         \u001b[0mother\u001b[0m\u001b[0;34m.\u001b[0m\u001b[0m_comments\u001b[0m \u001b[0;34m=\u001b[0m \u001b[0mCommentForest\u001b[0m\u001b[0;34m(\u001b[0m\u001b[0mself\u001b[0m\u001b[0;34m)\u001b[0m\u001b[0;34m\u001b[0m\u001b[0m\n",
      "\u001b[0;32m/home/maludee/anaconda2/lib/python2.7/site-packages/praw/reddit.pyc\u001b[0m in \u001b[0;36mget\u001b[0;34m(self, path, params)\u001b[0m\n\u001b[1;32m    318\u001b[0m \u001b[0;34m\u001b[0m\u001b[0m\n\u001b[1;32m    319\u001b[0m         \"\"\"\n\u001b[0;32m--> 320\u001b[0;31m         \u001b[0mdata\u001b[0m \u001b[0;34m=\u001b[0m \u001b[0mself\u001b[0m\u001b[0;34m.\u001b[0m\u001b[0mrequest\u001b[0m\u001b[0;34m(\u001b[0m\u001b[0;34m'GET'\u001b[0m\u001b[0;34m,\u001b[0m \u001b[0mpath\u001b[0m\u001b[0;34m,\u001b[0m \u001b[0mparams\u001b[0m\u001b[0;34m=\u001b[0m\u001b[0mparams\u001b[0m\u001b[0;34m)\u001b[0m\u001b[0;34m\u001b[0m\u001b[0m\n\u001b[0m\u001b[1;32m    321\u001b[0m         \u001b[0;32mreturn\u001b[0m \u001b[0mself\u001b[0m\u001b[0;34m.\u001b[0m\u001b[0m_objector\u001b[0m\u001b[0;34m.\u001b[0m\u001b[0mobjectify\u001b[0m\u001b[0;34m(\u001b[0m\u001b[0mdata\u001b[0m\u001b[0;34m)\u001b[0m\u001b[0;34m\u001b[0m\u001b[0m\n\u001b[1;32m    322\u001b[0m \u001b[0;34m\u001b[0m\u001b[0m\n",
      "\u001b[0;32m/home/maludee/anaconda2/lib/python2.7/site-packages/praw/reddit.pyc\u001b[0m in \u001b[0;36mrequest\u001b[0;34m(self, method, path, params, data, files)\u001b[0m\n\u001b[1;32m    402\u001b[0m         \"\"\"\n\u001b[1;32m    403\u001b[0m         return self._core.request(method, path, data=data, files=files,\n\u001b[0;32m--> 404\u001b[0;31m                                   params=params)\n\u001b[0m\u001b[1;32m    405\u001b[0m \u001b[0;34m\u001b[0m\u001b[0m\n\u001b[1;32m    406\u001b[0m     def submission(  # pylint: disable=invalid-name,redefined-builtin\n",
      "\u001b[0;32m/home/maludee/anaconda2/lib/python2.7/site-packages/prawcore/sessions.pyc\u001b[0m in \u001b[0;36mrequest\u001b[0;34m(self, method, path, data, files, json, params)\u001b[0m\n\u001b[1;32m    146\u001b[0m         return self._request_with_retries(\n\u001b[1;32m    147\u001b[0m             \u001b[0mdata\u001b[0m\u001b[0;34m=\u001b[0m\u001b[0mdata\u001b[0m\u001b[0;34m,\u001b[0m \u001b[0mfiles\u001b[0m\u001b[0;34m=\u001b[0m\u001b[0mfiles\u001b[0m\u001b[0;34m,\u001b[0m \u001b[0mheaders\u001b[0m\u001b[0;34m=\u001b[0m\u001b[0mheaders\u001b[0m\u001b[0;34m,\u001b[0m \u001b[0mjson\u001b[0m\u001b[0;34m=\u001b[0m\u001b[0mjson\u001b[0m\u001b[0;34m,\u001b[0m \u001b[0mmethod\u001b[0m\u001b[0;34m=\u001b[0m\u001b[0mmethod\u001b[0m\u001b[0;34m,\u001b[0m\u001b[0;34m\u001b[0m\u001b[0m\n\u001b[0;32m--> 148\u001b[0;31m             params=params, url=url)\n\u001b[0m\u001b[1;32m    149\u001b[0m \u001b[0;34m\u001b[0m\u001b[0m\n\u001b[1;32m    150\u001b[0m \u001b[0;34m\u001b[0m\u001b[0m\n",
      "\u001b[0;32m/home/maludee/anaconda2/lib/python2.7/site-packages/prawcore/sessions.pyc\u001b[0m in \u001b[0;36m_request_with_retries\u001b[0;34m(self, data, files, headers, json, method, params, url, retries)\u001b[0m\n\u001b[1;32m     74\u001b[0m                 \u001b[0mself\u001b[0m\u001b[0;34m.\u001b[0m\u001b[0m_requestor\u001b[0m\u001b[0;34m.\u001b[0m\u001b[0mrequest\u001b[0m\u001b[0;34m,\u001b[0m \u001b[0mmethod\u001b[0m\u001b[0;34m,\u001b[0m \u001b[0murl\u001b[0m\u001b[0;34m,\u001b[0m \u001b[0mallow_redirects\u001b[0m\u001b[0;34m=\u001b[0m\u001b[0mFalse\u001b[0m\u001b[0;34m,\u001b[0m\u001b[0;34m\u001b[0m\u001b[0m\n\u001b[1;32m     75\u001b[0m                 \u001b[0mdata\u001b[0m\u001b[0;34m=\u001b[0m\u001b[0mdata\u001b[0m\u001b[0;34m,\u001b[0m \u001b[0mfiles\u001b[0m\u001b[0;34m=\u001b[0m\u001b[0mfiles\u001b[0m\u001b[0;34m,\u001b[0m \u001b[0mheaders\u001b[0m\u001b[0;34m=\u001b[0m\u001b[0mheaders\u001b[0m\u001b[0;34m,\u001b[0m \u001b[0mjson\u001b[0m\u001b[0;34m=\u001b[0m\u001b[0mjson\u001b[0m\u001b[0;34m,\u001b[0m\u001b[0;34m\u001b[0m\u001b[0m\n\u001b[0;32m---> 76\u001b[0;31m                 params=params)\n\u001b[0m\u001b[1;32m     77\u001b[0m             log.debug('Response: {} ({} bytes)'.format(\n\u001b[1;32m     78\u001b[0m                 response.status_code, response.headers.get('content-length')))\n",
      "\u001b[0;32m/home/maludee/anaconda2/lib/python2.7/site-packages/prawcore/rate_limit.pyc\u001b[0m in \u001b[0;36mcall\u001b[0;34m(self, request_function, *args, **kwargs)\u001b[0m\n\u001b[1;32m     26\u001b[0m \u001b[0;34m\u001b[0m\u001b[0m\n\u001b[1;32m     27\u001b[0m         \"\"\"\n\u001b[0;32m---> 28\u001b[0;31m         \u001b[0mself\u001b[0m\u001b[0;34m.\u001b[0m\u001b[0mdelay\u001b[0m\u001b[0;34m(\u001b[0m\u001b[0;34m)\u001b[0m\u001b[0;34m\u001b[0m\u001b[0m\n\u001b[0m\u001b[1;32m     29\u001b[0m         \u001b[0mresponse\u001b[0m \u001b[0;34m=\u001b[0m \u001b[0mrequest_function\u001b[0m\u001b[0;34m(\u001b[0m\u001b[0;34m*\u001b[0m\u001b[0margs\u001b[0m\u001b[0;34m,\u001b[0m \u001b[0;34m**\u001b[0m\u001b[0mkwargs\u001b[0m\u001b[0;34m)\u001b[0m\u001b[0;34m\u001b[0m\u001b[0m\n\u001b[1;32m     30\u001b[0m         \u001b[0mself\u001b[0m\u001b[0;34m.\u001b[0m\u001b[0mupdate\u001b[0m\u001b[0;34m(\u001b[0m\u001b[0mresponse\u001b[0m\u001b[0;34m.\u001b[0m\u001b[0mheaders\u001b[0m\u001b[0;34m)\u001b[0m\u001b[0;34m\u001b[0m\u001b[0m\n",
      "\u001b[0;32m/home/maludee/anaconda2/lib/python2.7/site-packages/prawcore/rate_limit.pyc\u001b[0m in \u001b[0;36mdelay\u001b[0;34m(self)\u001b[0m\n\u001b[1;32m     38\u001b[0m         \u001b[0;32mif\u001b[0m \u001b[0msleep_seconds\u001b[0m \u001b[0;34m<=\u001b[0m \u001b[0;36m0\u001b[0m\u001b[0;34m:\u001b[0m\u001b[0;34m\u001b[0m\u001b[0m\n\u001b[1;32m     39\u001b[0m             \u001b[0;32mreturn\u001b[0m\u001b[0;34m\u001b[0m\u001b[0m\n\u001b[0;32m---> 40\u001b[0;31m         \u001b[0mtime\u001b[0m\u001b[0;34m.\u001b[0m\u001b[0msleep\u001b[0m\u001b[0;34m(\u001b[0m\u001b[0msleep_seconds\u001b[0m\u001b[0;34m)\u001b[0m\u001b[0;34m\u001b[0m\u001b[0m\n\u001b[0m\u001b[1;32m     41\u001b[0m \u001b[0;34m\u001b[0m\u001b[0m\n\u001b[1;32m     42\u001b[0m     \u001b[0;32mdef\u001b[0m \u001b[0mupdate\u001b[0m\u001b[0;34m(\u001b[0m\u001b[0mself\u001b[0m\u001b[0;34m,\u001b[0m \u001b[0mresponse_headers\u001b[0m\u001b[0;34m)\u001b[0m\u001b[0;34m:\u001b[0m\u001b[0;34m\u001b[0m\u001b[0m\n",
      "\u001b[0;31mKeyboardInterrupt\u001b[0m: "
     ]
    }
   ],
   "source": [
    "# Insert submissions into mongodb\n",
    "for submission in relationships.submissions(1467331200, 1468454400):\n",
    "#for submission in relationships.top(limit=1):\n",
    "    data = {}\n",
    "    data['title'] = submission.title\n",
    "    data['flair'] = submission.link_flair_text\n",
    "    data['text'] = submission.selftext\n",
    "    data['score'] = submission.score\n",
    "    data['date'] = get_date(submission)\n",
    "    data['top_comment'] = get_top_comment(submission)\n",
    "    posts.replace_one(data, data, upsert = True)\n",
    "  \n",
    "    "
   ]
  },
  {
   "cell_type": "code",
   "execution_count": 37,
   "metadata": {
    "collapsed": false
   },
   "outputs": [],
   "source": [
    "cursor = posts.aggregate([\n",
    "    {\"$group\": {\n",
    "        \"_id\":{\"text\":\"$text\", \"top_comment\":\"$top_comment\"},\n",
    "        \"title\":{\"$push\":\"$title\"},\n",
    "        \"flair\":{\"$push\":\"$flair\"},\n",
    "        \"date\":{\"$push\":\"$date\"},\n",
    "        \"score\":{\"$push\":\"$score\"},\n",
    "        \"first\":{\"$first\":1}\n",
    "    }}\n",
    "], \n",
    "    allowDiskUse=True\n",
    ")\n",
    "\n"
   ]
  },
  {
   "cell_type": "code",
   "execution_count": 38,
   "metadata": {
    "collapsed": true
   },
   "outputs": [],
   "source": [
    "posts2 = db.submissions2"
   ]
  },
  {
   "cell_type": "code",
   "execution_count": 39,
   "metadata": {
    "collapsed": false
   },
   "outputs": [
    {
     "data": {
      "text/plain": [
       "0"
      ]
     },
     "execution_count": 39,
     "metadata": {},
     "output_type": "execute_result"
    }
   ],
   "source": [
    "posts2.count()"
   ]
  },
  {
   "cell_type": "code",
   "execution_count": 40,
   "metadata": {
    "collapsed": false
   },
   "outputs": [
    {
     "data": {
      "text/plain": [
       "[u'Me [23 F] with my ex-gf/ great friend [25F] duration (6 months of dating/10 friendship)']"
      ]
     },
     "execution_count": 40,
     "metadata": {},
     "output_type": "execute_result"
    }
   ],
   "source": [
    "cursor.next()['title']"
   ]
  },
  {
   "cell_type": "code",
   "execution_count": 41,
   "metadata": {
    "collapsed": false
   },
   "outputs": [],
   "source": [
    "posts_dict = {}\n",
    "\n",
    "for c in cursor:\n",
    "    posts_dict = {}\n",
    "    posts_dict['question'] = c['_id']['text']\n",
    "    posts_dict['top_comment'] = c['_id']['top_comment']\n",
    "    posts_dict['date'] = c['date']\n",
    "    posts_dict['flair'] = c['flair']\n",
    "    posts_dict['score'] = c['score']\n",
    "    posts_dict['title'] = c['title']\n",
    "    posts2.insert_one(posts_dict)"
   ]
  },
  {
   "cell_type": "code",
   "execution_count": 42,
   "metadata": {
    "collapsed": false
   },
   "outputs": [
    {
     "data": {
      "text/plain": [
       "33623"
      ]
     },
     "execution_count": 42,
     "metadata": {},
     "output_type": "execute_result"
    }
   ],
   "source": [
    "posts2.count()"
   ]
  },
  {
   "cell_type": "code",
   "execution_count": null,
   "metadata": {
    "collapsed": true
   },
   "outputs": [],
   "source": []
  }
 ],
 "metadata": {
  "kernelspec": {
   "display_name": "Python 2",
   "language": "python",
   "name": "python2"
  },
  "language_info": {
   "codemirror_mode": {
    "name": "ipython",
    "version": 2
   },
   "file_extension": ".py",
   "mimetype": "text/x-python",
   "name": "python",
   "nbconvert_exporter": "python",
   "pygments_lexer": "ipython2",
   "version": "2.7.13"
  }
 },
 "nbformat": 4,
 "nbformat_minor": 2
}
